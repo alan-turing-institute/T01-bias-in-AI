{
  "nbformat": 4,
  "nbformat_minor": 0,
  "metadata": {
    "colab": {
      "name": "M3_Practice_2_Evaluate fairness metrics manually.ipynb",
      "provenance": [],
      "collapsed_sections": [
        "-nYt5_h77QGN"
      ]
    },
    "kernelspec": {
      "display_name": "Python 3",
      "language": "python",
      "name": "python3"
    },
    "language_info": {
      "codemirror_mode": {
        "name": "ipython",
        "version": 3
      },
      "file_extension": ".py",
      "mimetype": "text/x-python",
      "name": "python",
      "nbconvert_exporter": "python",
      "pygments_lexer": "ipython3",
      "version": "3.8.8"
    }
  },
  "cells": [
    {
      "cell_type": "markdown",
      "metadata": {
        "id": "RMuRYKtj4SHR"
      },
      "source": [
        "# **Milestone 3: Sources, Forms, and Quantification of Bias and Discrimination in Supervised Learning**\n",
        "## **PRACTICE NOTEBOOK 2 - Evaluate model bias \"manually\"**\n"
      ]
    },
    {
      "cell_type": "markdown",
      "metadata": {
        "id": "0v83HDaM4g99"
      },
      "source": [
        "In this part of the course, we will look for bias using a practical example. A  company is looking to hire a new employee. They use a machine learning algorithm to select the top candidates. The candidates are assigned either 0 if they're not selected or 1 if they are. \n",
        "\n",
        "There are 4 practice notebooks in total (current one in red):\n",
        "1. Explore given data to: detect potential bias early & check for proxies \n",
        "2. <font color='red'> **Evaluate model bias \"manually\"**</font>\n",
        "3. Evaluate model bias using existing libraries (aif360)\n",
        "4. Example code to get confidence intervals for a metric (nothing to do)\n",
        "\n",
        "Instructions to complete in each parts are in bold. Intermediate results are given so one can continue the exercise. \n",
        "\n",
        "This is notebook number 2. \n",
        "\n",
        "Up to this point, we haven't used any model yet and simply analysed the dataset used for training. We haven't used any fairness metrics either, but we can already see a few points that are warning signs. The first one is that the average success rate within the training data differs for various ethnicities (Asian : 0.34, Black : 0.36, Hispanic : 0.39 , White : 0.41). If there was no proxies at all for ethnicity in the data, it would be fine to train with this data as ethnicity would have zero influence on the result. Unfortunately, we have seen that it is not the case. We can therefore expect there might be some bias on a model trained on this data. \n",
        "\n",
        "Note that in a more thorough experiment, we would test fairness using cross-validation or bootsampling methods (see section 10.2 from this book), giving us more trustworthy average figures for each metric (for accuracy and fairness). In this course, we do the analysis on one single random split of the data, hence yielding only one figure. Example code to obtain a confidence interval is provided in practice notebook 4. \n",
        "\n",
        "We evaluate two types of metrics:\n",
        "\n",
        "- Equality of outcome metrics: These measure the distribution of positive outcomes with respect to the protected characteristic. We focus on this when we would like our model to predict an equal proportion of positive outcomes for the protected group compared with the rest of the population. We will estimate the two following metrics: Statistical Parity and Disparate Impact. \n",
        "\n",
        "- Equalized Odds and Equality of Opportunity metrics. These measure the distribution of model errors with respect to the protected characteristic. These are useful when Statistical Parity is not an appropriate goal, for example where there are legitimate reasons for a protected group to have a different rate of positive outcome to the rest of the population, but where we would like to make sure the model makes the same volume and types of errors for both groups. We will estimate the following metric: Equal Opportunity Difference.\n",
        "\n",
        "In this notebook we will:\n",
        "- Split data into train/test sets, define and train a model, get overall accuracy\n",
        "- Calculate the Equality of Outcome metrics *Statistical Parity* and *Disparate Impact* on the original test set\n",
        "- Calculate *Statistical Parity* and *Disparate Impact* on a rebalanced test set\n",
        "- Calculate the *Equal Opportunity Difference*"
      ]
    },
    {
      "cell_type": "markdown",
      "metadata": {
        "id": "-nYt5_h77QGN"
      },
      "source": [
        "## **0 - Import modules, load data and useful functions**"
      ]
    },
    {
      "cell_type": "code",
      "metadata": {
        "id": "KgfZWXdy1REj"
      },
      "source": [
        "#imports \n",
        "import pickle\n",
        "import numpy as np\n",
        "import pandas as pd\n",
        "import matplotlib.pyplot as plt\n",
        "import seaborn as sns\n",
        "from sklearn.preprocessing import LabelEncoder\n",
        "from sklearn.model_selection import train_test_split\n",
        "from sklearn.linear_model import RidgeClassifier\n",
        "from sklearn.metrics import accuracy_score, recall_score, precision_score, precision_recall_fscore_support\n",
        "from sklearn.metrics import confusion_matrix\n",
        "from imblearn import under_sampling, over_sampling"
      ],
      "execution_count": null,
      "outputs": []
    },
    {
      "cell_type": "code",
      "metadata": {
        "colab": {
          "base_uri": "https://localhost:8080/"
        },
        "id": "vQ0R86MF7trN",
        "outputId": "424b4784-0893-42a2-a451-b8c6afc63171"
      },
      "source": [
        "# Only run if running on Google Colab\n",
        "!pip3 install pickle5\n",
        "import pickle5 as pickle\n",
        "!gdown --id 1-Wd1evAoDs4YsjRLfC-ifarmQL-Ozg3R # download data file from public link and place it in content/ folder"
      ],
      "execution_count": null,
      "outputs": [
        {
          "output_type": "stream",
          "name": "stdout",
          "text": [
            "Requirement already satisfied: pickle5 in /usr/local/lib/python3.7/dist-packages (0.0.11)\n",
            "Downloading...\n",
            "From: https://drive.google.com/uc?id=1-Wd1evAoDs4YsjRLfC-ifarmQL-Ozg3R\n",
            "To: /content/data.pickle\n",
            "128MB [00:00, 144MB/s]\n"
          ]
        }
      ]
    },
    {
      "cell_type": "code",
      "metadata": {
        "colab": {
          "base_uri": "https://localhost:8080/",
          "height": 253
        },
        "id": "ClEzlOOOpr0B",
        "outputId": "cbefc6f4-2e35-49c3-a6fe-c1f5ce0136f2"
      },
      "source": [
        "'''\n",
        "Uncomment the code below if you are running this from your local machine\n",
        "Note: Place data.pickle file in the same folder as the .ipynb notebook (Download link: https://docs.google.com/uc?export=download&id=1-Wd1evAoDs4YsjRLfC-ifarmQL-Ozg)\n",
        "'''\n",
        "# with open('data.pickle', 'rb') as handle:\n",
        "#     raw_data = pickle.load(handle)   \n",
        "if 'google.colab' in str(get_ipython()): # if running from colab\n",
        "  with open('/content/data.pickle', 'rb') as handle:\n",
        "      raw_data = pickle.load(handle)  \n",
        "raw_data[:5] #display the first 5 candidates data"
      ],
      "execution_count": null,
      "outputs": [
        {
          "output_type": "execute_result",
          "data": {
            "text/html": [
              "<div>\n",
              "<style scoped>\n",
              "    .dataframe tbody tr th:only-of-type {\n",
              "        vertical-align: middle;\n",
              "    }\n",
              "\n",
              "    .dataframe tbody tr th {\n",
              "        vertical-align: top;\n",
              "    }\n",
              "\n",
              "    .dataframe thead th {\n",
              "        text-align: right;\n",
              "    }\n",
              "</style>\n",
              "<table border=\"1\" class=\"dataframe\">\n",
              "  <thead>\n",
              "    <tr style=\"text-align: right;\">\n",
              "      <th></th>\n",
              "      <th>Label</th>\n",
              "      <th>Gender</th>\n",
              "      <th>Ethnicity</th>\n",
              "      <th>0</th>\n",
              "      <th>1</th>\n",
              "      <th>2</th>\n",
              "      <th>3</th>\n",
              "      <th>4</th>\n",
              "      <th>5</th>\n",
              "      <th>6</th>\n",
              "      <th>7</th>\n",
              "      <th>8</th>\n",
              "      <th>9</th>\n",
              "      <th>10</th>\n",
              "      <th>11</th>\n",
              "      <th>12</th>\n",
              "      <th>13</th>\n",
              "      <th>14</th>\n",
              "      <th>15</th>\n",
              "      <th>16</th>\n",
              "      <th>17</th>\n",
              "      <th>18</th>\n",
              "      <th>19</th>\n",
              "      <th>20</th>\n",
              "      <th>21</th>\n",
              "      <th>22</th>\n",
              "      <th>23</th>\n",
              "      <th>24</th>\n",
              "      <th>25</th>\n",
              "      <th>26</th>\n",
              "      <th>27</th>\n",
              "      <th>28</th>\n",
              "      <th>29</th>\n",
              "      <th>30</th>\n",
              "      <th>31</th>\n",
              "      <th>32</th>\n",
              "      <th>33</th>\n",
              "      <th>34</th>\n",
              "      <th>35</th>\n",
              "      <th>36</th>\n",
              "      <th>...</th>\n",
              "      <th>460</th>\n",
              "      <th>461</th>\n",
              "      <th>462</th>\n",
              "      <th>463</th>\n",
              "      <th>464</th>\n",
              "      <th>465</th>\n",
              "      <th>466</th>\n",
              "      <th>467</th>\n",
              "      <th>468</th>\n",
              "      <th>469</th>\n",
              "      <th>470</th>\n",
              "      <th>471</th>\n",
              "      <th>472</th>\n",
              "      <th>473</th>\n",
              "      <th>474</th>\n",
              "      <th>475</th>\n",
              "      <th>476</th>\n",
              "      <th>477</th>\n",
              "      <th>478</th>\n",
              "      <th>479</th>\n",
              "      <th>480</th>\n",
              "      <th>481</th>\n",
              "      <th>482</th>\n",
              "      <th>483</th>\n",
              "      <th>484</th>\n",
              "      <th>485</th>\n",
              "      <th>486</th>\n",
              "      <th>487</th>\n",
              "      <th>488</th>\n",
              "      <th>489</th>\n",
              "      <th>490</th>\n",
              "      <th>491</th>\n",
              "      <th>492</th>\n",
              "      <th>493</th>\n",
              "      <th>494</th>\n",
              "      <th>495</th>\n",
              "      <th>496</th>\n",
              "      <th>497</th>\n",
              "      <th>498</th>\n",
              "      <th>499</th>\n",
              "    </tr>\n",
              "  </thead>\n",
              "  <tbody>\n",
              "    <tr>\n",
              "      <th>0</th>\n",
              "      <td>0</td>\n",
              "      <td>Female</td>\n",
              "      <td>White</td>\n",
              "      <td>28.021737</td>\n",
              "      <td>4.351153</td>\n",
              "      <td>2.453895</td>\n",
              "      <td>1.637143</td>\n",
              "      <td>-1.746628</td>\n",
              "      <td>-0.483463</td>\n",
              "      <td>0.034170</td>\n",
              "      <td>1.399225</td>\n",
              "      <td>-0.795440</td>\n",
              "      <td>0.417474</td>\n",
              "      <td>0.214564</td>\n",
              "      <td>-0.471581</td>\n",
              "      <td>1.945645</td>\n",
              "      <td>-0.676217</td>\n",
              "      <td>1.213878</td>\n",
              "      <td>0.015701</td>\n",
              "      <td>1.472670</td>\n",
              "      <td>-0.054158</td>\n",
              "      <td>0.106858</td>\n",
              "      <td>-1.073194</td>\n",
              "      <td>-1.071848</td>\n",
              "      <td>-0.249942</td>\n",
              "      <td>0.634626</td>\n",
              "      <td>-0.732358</td>\n",
              "      <td>2.445728</td>\n",
              "      <td>0.784284</td>\n",
              "      <td>0.112329</td>\n",
              "      <td>1.055362</td>\n",
              "      <td>-0.605459</td>\n",
              "      <td>1.259140</td>\n",
              "      <td>-0.287927</td>\n",
              "      <td>0.214142</td>\n",
              "      <td>-0.644585</td>\n",
              "      <td>1.165376</td>\n",
              "      <td>-0.409198</td>\n",
              "      <td>-0.705823</td>\n",
              "      <td>0.091147</td>\n",
              "      <td>...</td>\n",
              "      <td>-0.655416</td>\n",
              "      <td>-0.012623</td>\n",
              "      <td>0.660826</td>\n",
              "      <td>0.258141</td>\n",
              "      <td>0.036875</td>\n",
              "      <td>-0.229340</td>\n",
              "      <td>0.353817</td>\n",
              "      <td>-0.178814</td>\n",
              "      <td>-0.145229</td>\n",
              "      <td>-0.040692</td>\n",
              "      <td>-0.046980</td>\n",
              "      <td>0.311939</td>\n",
              "      <td>-0.348202</td>\n",
              "      <td>0.271357</td>\n",
              "      <td>0.355443</td>\n",
              "      <td>-0.050447</td>\n",
              "      <td>-0.051816</td>\n",
              "      <td>0.083028</td>\n",
              "      <td>0.184139</td>\n",
              "      <td>0.107824</td>\n",
              "      <td>-0.083415</td>\n",
              "      <td>-0.359288</td>\n",
              "      <td>0.156547</td>\n",
              "      <td>-0.588539</td>\n",
              "      <td>-0.025777</td>\n",
              "      <td>-0.172269</td>\n",
              "      <td>0.331421</td>\n",
              "      <td>0.222768</td>\n",
              "      <td>-0.319124</td>\n",
              "      <td>-0.060476</td>\n",
              "      <td>-0.557444</td>\n",
              "      <td>-0.015627</td>\n",
              "      <td>-0.052749</td>\n",
              "      <td>-0.234189</td>\n",
              "      <td>-0.072384</td>\n",
              "      <td>0.090403</td>\n",
              "      <td>0.376761</td>\n",
              "      <td>0.258914</td>\n",
              "      <td>-0.050558</td>\n",
              "      <td>0.014513</td>\n",
              "    </tr>\n",
              "    <tr>\n",
              "      <th>1</th>\n",
              "      <td>0</td>\n",
              "      <td>Female</td>\n",
              "      <td>White</td>\n",
              "      <td>29.603342</td>\n",
              "      <td>-3.407193</td>\n",
              "      <td>0.771800</td>\n",
              "      <td>-2.957411</td>\n",
              "      <td>0.599226</td>\n",
              "      <td>-2.805277</td>\n",
              "      <td>0.329414</td>\n",
              "      <td>-2.055339</td>\n",
              "      <td>-1.194446</td>\n",
              "      <td>-0.633159</td>\n",
              "      <td>2.268302</td>\n",
              "      <td>1.159443</td>\n",
              "      <td>0.899266</td>\n",
              "      <td>-0.472739</td>\n",
              "      <td>0.541605</td>\n",
              "      <td>-1.248643</td>\n",
              "      <td>0.046512</td>\n",
              "      <td>1.225688</td>\n",
              "      <td>0.456477</td>\n",
              "      <td>-1.483071</td>\n",
              "      <td>-0.944882</td>\n",
              "      <td>1.483229</td>\n",
              "      <td>0.512809</td>\n",
              "      <td>0.692537</td>\n",
              "      <td>0.178988</td>\n",
              "      <td>-1.609531</td>\n",
              "      <td>-1.985852</td>\n",
              "      <td>-0.469491</td>\n",
              "      <td>-1.156583</td>\n",
              "      <td>0.475535</td>\n",
              "      <td>-0.041015</td>\n",
              "      <td>-0.214832</td>\n",
              "      <td>-0.681641</td>\n",
              "      <td>1.131433</td>\n",
              "      <td>-0.667814</td>\n",
              "      <td>0.267111</td>\n",
              "      <td>-0.112433</td>\n",
              "      <td>...</td>\n",
              "      <td>0.034605</td>\n",
              "      <td>-0.024487</td>\n",
              "      <td>-0.212205</td>\n",
              "      <td>0.440684</td>\n",
              "      <td>-0.065303</td>\n",
              "      <td>0.409878</td>\n",
              "      <td>0.455144</td>\n",
              "      <td>-0.108402</td>\n",
              "      <td>0.027760</td>\n",
              "      <td>-0.015238</td>\n",
              "      <td>0.027453</td>\n",
              "      <td>0.319960</td>\n",
              "      <td>-0.014589</td>\n",
              "      <td>-0.083241</td>\n",
              "      <td>-0.285702</td>\n",
              "      <td>0.047510</td>\n",
              "      <td>-0.144107</td>\n",
              "      <td>0.405289</td>\n",
              "      <td>-0.044139</td>\n",
              "      <td>-0.287215</td>\n",
              "      <td>0.201876</td>\n",
              "      <td>-0.298703</td>\n",
              "      <td>0.347969</td>\n",
              "      <td>0.029646</td>\n",
              "      <td>0.073052</td>\n",
              "      <td>-0.010259</td>\n",
              "      <td>0.023681</td>\n",
              "      <td>0.373202</td>\n",
              "      <td>-0.525402</td>\n",
              "      <td>-0.198727</td>\n",
              "      <td>-0.198440</td>\n",
              "      <td>-0.158843</td>\n",
              "      <td>0.191984</td>\n",
              "      <td>-0.004532</td>\n",
              "      <td>0.229210</td>\n",
              "      <td>-0.173042</td>\n",
              "      <td>-0.072871</td>\n",
              "      <td>0.442939</td>\n",
              "      <td>-0.054423</td>\n",
              "      <td>0.026959</td>\n",
              "    </tr>\n",
              "    <tr>\n",
              "      <th>2</th>\n",
              "      <td>1</td>\n",
              "      <td>Female</td>\n",
              "      <td>Hispanic</td>\n",
              "      <td>26.504283</td>\n",
              "      <td>0.642464</td>\n",
              "      <td>2.522944</td>\n",
              "      <td>-2.197094</td>\n",
              "      <td>2.270646</td>\n",
              "      <td>-0.472510</td>\n",
              "      <td>0.532815</td>\n",
              "      <td>-0.266449</td>\n",
              "      <td>-0.131638</td>\n",
              "      <td>1.038315</td>\n",
              "      <td>-0.865827</td>\n",
              "      <td>-0.811267</td>\n",
              "      <td>-0.381401</td>\n",
              "      <td>-0.801701</td>\n",
              "      <td>-0.485021</td>\n",
              "      <td>0.656005</td>\n",
              "      <td>2.489571</td>\n",
              "      <td>-0.714447</td>\n",
              "      <td>0.658228</td>\n",
              "      <td>-0.075957</td>\n",
              "      <td>-1.159888</td>\n",
              "      <td>-2.334786</td>\n",
              "      <td>-0.253364</td>\n",
              "      <td>-2.073697</td>\n",
              "      <td>-0.939994</td>\n",
              "      <td>-1.177166</td>\n",
              "      <td>0.551689</td>\n",
              "      <td>-1.313316</td>\n",
              "      <td>-0.486217</td>\n",
              "      <td>0.732130</td>\n",
              "      <td>-0.320456</td>\n",
              "      <td>-1.143053</td>\n",
              "      <td>1.297522</td>\n",
              "      <td>-0.617038</td>\n",
              "      <td>0.340978</td>\n",
              "      <td>0.978603</td>\n",
              "      <td>0.398515</td>\n",
              "      <td>...</td>\n",
              "      <td>0.510825</td>\n",
              "      <td>-0.616479</td>\n",
              "      <td>0.644675</td>\n",
              "      <td>0.505319</td>\n",
              "      <td>-0.299894</td>\n",
              "      <td>-0.058435</td>\n",
              "      <td>0.095024</td>\n",
              "      <td>-0.101136</td>\n",
              "      <td>0.042583</td>\n",
              "      <td>0.061005</td>\n",
              "      <td>0.304137</td>\n",
              "      <td>0.259210</td>\n",
              "      <td>-0.022425</td>\n",
              "      <td>0.138097</td>\n",
              "      <td>-0.442536</td>\n",
              "      <td>-0.108350</td>\n",
              "      <td>0.369865</td>\n",
              "      <td>0.151049</td>\n",
              "      <td>0.096285</td>\n",
              "      <td>0.013651</td>\n",
              "      <td>0.175281</td>\n",
              "      <td>0.144344</td>\n",
              "      <td>-0.006250</td>\n",
              "      <td>0.100850</td>\n",
              "      <td>-0.051642</td>\n",
              "      <td>0.122977</td>\n",
              "      <td>-0.088661</td>\n",
              "      <td>-0.229844</td>\n",
              "      <td>-0.272144</td>\n",
              "      <td>0.012633</td>\n",
              "      <td>0.423352</td>\n",
              "      <td>-0.033844</td>\n",
              "      <td>-0.125387</td>\n",
              "      <td>-0.483924</td>\n",
              "      <td>-0.116553</td>\n",
              "      <td>-0.113281</td>\n",
              "      <td>0.015519</td>\n",
              "      <td>0.017111</td>\n",
              "      <td>-0.012309</td>\n",
              "      <td>0.264572</td>\n",
              "    </tr>\n",
              "    <tr>\n",
              "      <th>3</th>\n",
              "      <td>0</td>\n",
              "      <td>Female</td>\n",
              "      <td>Hispanic</td>\n",
              "      <td>25.012088</td>\n",
              "      <td>0.895121</td>\n",
              "      <td>-2.092517</td>\n",
              "      <td>3.687830</td>\n",
              "      <td>0.539642</td>\n",
              "      <td>1.988930</td>\n",
              "      <td>1.121646</td>\n",
              "      <td>2.255337</td>\n",
              "      <td>-0.128801</td>\n",
              "      <td>1.148379</td>\n",
              "      <td>1.616247</td>\n",
              "      <td>-2.599757</td>\n",
              "      <td>-0.322807</td>\n",
              "      <td>2.102508</td>\n",
              "      <td>-0.204551</td>\n",
              "      <td>0.069818</td>\n",
              "      <td>0.745222</td>\n",
              "      <td>-0.859875</td>\n",
              "      <td>-2.235995</td>\n",
              "      <td>-0.207436</td>\n",
              "      <td>-1.678697</td>\n",
              "      <td>-0.569024</td>\n",
              "      <td>-0.723122</td>\n",
              "      <td>-0.144833</td>\n",
              "      <td>-1.537487</td>\n",
              "      <td>1.678429</td>\n",
              "      <td>0.501249</td>\n",
              "      <td>-0.230747</td>\n",
              "      <td>0.746559</td>\n",
              "      <td>-0.069959</td>\n",
              "      <td>-0.346651</td>\n",
              "      <td>0.448291</td>\n",
              "      <td>0.283592</td>\n",
              "      <td>-0.445759</td>\n",
              "      <td>-0.529080</td>\n",
              "      <td>0.287333</td>\n",
              "      <td>0.466766</td>\n",
              "      <td>...</td>\n",
              "      <td>-0.153845</td>\n",
              "      <td>-0.049137</td>\n",
              "      <td>-0.023112</td>\n",
              "      <td>-0.173509</td>\n",
              "      <td>-0.265363</td>\n",
              "      <td>0.091898</td>\n",
              "      <td>0.016743</td>\n",
              "      <td>-0.092894</td>\n",
              "      <td>-0.009915</td>\n",
              "      <td>-0.031731</td>\n",
              "      <td>0.153983</td>\n",
              "      <td>0.001281</td>\n",
              "      <td>0.123019</td>\n",
              "      <td>-0.035719</td>\n",
              "      <td>-0.045633</td>\n",
              "      <td>-0.103204</td>\n",
              "      <td>0.089567</td>\n",
              "      <td>0.104990</td>\n",
              "      <td>0.337228</td>\n",
              "      <td>-0.018783</td>\n",
              "      <td>-0.215437</td>\n",
              "      <td>0.268139</td>\n",
              "      <td>-0.125425</td>\n",
              "      <td>0.095183</td>\n",
              "      <td>-0.125172</td>\n",
              "      <td>-0.226467</td>\n",
              "      <td>0.371647</td>\n",
              "      <td>-0.023041</td>\n",
              "      <td>-0.093040</td>\n",
              "      <td>0.338300</td>\n",
              "      <td>-0.280392</td>\n",
              "      <td>0.046582</td>\n",
              "      <td>0.116709</td>\n",
              "      <td>0.133876</td>\n",
              "      <td>0.072716</td>\n",
              "      <td>0.124083</td>\n",
              "      <td>0.213735</td>\n",
              "      <td>-0.149901</td>\n",
              "      <td>-0.217130</td>\n",
              "      <td>0.004403</td>\n",
              "    </tr>\n",
              "    <tr>\n",
              "      <th>4</th>\n",
              "      <td>1</td>\n",
              "      <td>Male</td>\n",
              "      <td>Hispanic</td>\n",
              "      <td>27.358934</td>\n",
              "      <td>-2.332423</td>\n",
              "      <td>0.154999</td>\n",
              "      <td>-2.623793</td>\n",
              "      <td>1.682456</td>\n",
              "      <td>1.262280</td>\n",
              "      <td>-1.685565</td>\n",
              "      <td>0.489319</td>\n",
              "      <td>-0.043471</td>\n",
              "      <td>-0.372265</td>\n",
              "      <td>1.778535</td>\n",
              "      <td>-1.145419</td>\n",
              "      <td>2.461327</td>\n",
              "      <td>1.396318</td>\n",
              "      <td>-0.911969</td>\n",
              "      <td>-2.228570</td>\n",
              "      <td>1.378633</td>\n",
              "      <td>-1.512325</td>\n",
              "      <td>-0.440331</td>\n",
              "      <td>-0.111163</td>\n",
              "      <td>-0.885884</td>\n",
              "      <td>-0.840501</td>\n",
              "      <td>1.576620</td>\n",
              "      <td>-0.972075</td>\n",
              "      <td>-2.008346</td>\n",
              "      <td>-0.358732</td>\n",
              "      <td>0.896535</td>\n",
              "      <td>0.562193</td>\n",
              "      <td>0.154542</td>\n",
              "      <td>-1.077315</td>\n",
              "      <td>1.902062</td>\n",
              "      <td>1.728109</td>\n",
              "      <td>0.317205</td>\n",
              "      <td>-0.436143</td>\n",
              "      <td>0.226549</td>\n",
              "      <td>-0.502206</td>\n",
              "      <td>-0.157102</td>\n",
              "      <td>...</td>\n",
              "      <td>0.181831</td>\n",
              "      <td>-0.026589</td>\n",
              "      <td>-0.051453</td>\n",
              "      <td>0.261819</td>\n",
              "      <td>-0.048644</td>\n",
              "      <td>-0.099526</td>\n",
              "      <td>-0.026777</td>\n",
              "      <td>0.039836</td>\n",
              "      <td>-0.168277</td>\n",
              "      <td>0.077232</td>\n",
              "      <td>0.193722</td>\n",
              "      <td>0.093298</td>\n",
              "      <td>-0.075132</td>\n",
              "      <td>-0.063202</td>\n",
              "      <td>0.120167</td>\n",
              "      <td>0.039270</td>\n",
              "      <td>0.350429</td>\n",
              "      <td>0.166559</td>\n",
              "      <td>0.130134</td>\n",
              "      <td>-0.181019</td>\n",
              "      <td>-0.193276</td>\n",
              "      <td>0.312204</td>\n",
              "      <td>-0.187331</td>\n",
              "      <td>-0.029194</td>\n",
              "      <td>-0.212277</td>\n",
              "      <td>-0.463872</td>\n",
              "      <td>0.041810</td>\n",
              "      <td>0.041185</td>\n",
              "      <td>-0.182479</td>\n",
              "      <td>-0.182461</td>\n",
              "      <td>-0.019350</td>\n",
              "      <td>-0.093371</td>\n",
              "      <td>0.003443</td>\n",
              "      <td>-0.025467</td>\n",
              "      <td>0.155397</td>\n",
              "      <td>-0.067609</td>\n",
              "      <td>-0.084833</td>\n",
              "      <td>0.033429</td>\n",
              "      <td>-0.199198</td>\n",
              "      <td>0.229629</td>\n",
              "    </tr>\n",
              "  </tbody>\n",
              "</table>\n",
              "<p>5 rows × 503 columns</p>\n",
              "</div>"
            ],
            "text/plain": [
              "   Label  Gender Ethnicity          0  ...       496       497       498       499\n",
              "0      0  Female     White  28.021737  ...  0.376761  0.258914 -0.050558  0.014513\n",
              "1      0  Female     White  29.603342  ... -0.072871  0.442939 -0.054423  0.026959\n",
              "2      1  Female  Hispanic  26.504283  ...  0.015519  0.017111 -0.012309  0.264572\n",
              "3      0  Female  Hispanic  25.012088  ...  0.213735 -0.149901 -0.217130  0.004403\n",
              "4      1    Male  Hispanic  27.358934  ... -0.084833  0.033429 -0.199198  0.229629\n",
              "\n",
              "[5 rows x 503 columns]"
            ]
          },
          "metadata": {},
          "execution_count": 54
        }
      ]
    },
    {
      "cell_type": "code",
      "metadata": {
        "id": "fo4na9kCw6bN"
      },
      "source": [
        "# remove all nans --> we will use the variable data (without nans) for the remaining of this notebook \n",
        "data = raw_data.dropna()"
      ],
      "execution_count": null,
      "outputs": []
    },
    {
      "cell_type": "code",
      "metadata": {
        "id": "PLwniYoCY6_y"
      },
      "source": [
        "def plot_cm(y_true,y_pred,labels = [1,0],display_labels = [1,0], ax = None):\n",
        "  cm = confusion_matrix(y_true,y_pred,labels = labels)\n",
        "  if ax is None:\n",
        "    fig, ax = plt.subplots()\n",
        "  else:\n",
        "    fig = ax.figure\n",
        "  sns.heatmap(cm, annot=True, ax = ax, cmap='viridis',fmt='g')\n",
        "\n",
        "  ax.set(xticklabels=display_labels,\n",
        "          yticklabels=display_labels,\n",
        "          ylabel=\"True label\",\n",
        "          xlabel=\"Predicted label\")\n",
        "  return cm\n",
        "def split_data_from_df(data):\n",
        "  y = data['Label'].values\n",
        "  # g = data['Gender'].values\n",
        "  # e = data['Ethnicity'].values\n",
        "  X = data[np.arange(500)].values\n",
        "  filter_col = ['Ethnicity','Gender'] + [col for col in data if str(col).startswith('Ethnicity_')] + [col for col in data if str(col).startswith('Gender_')] \n",
        "  dem = data[filter_col].copy()\n",
        "  return X,y,dem\n",
        "def encode(df):\n",
        "  g_enc = LabelEncoder()\n",
        "  e_enc = LabelEncoder()\n",
        "  df['Gender'] = g_enc.fit_transform(df['Gender'])\n",
        "  df['Ethnicity'] = e_enc.fit_transform(df['Ethnicity'])\n",
        "  return df, g_enc,e_enc\n",
        "def resample_equal(df,cat):\n",
        "  df['uid'] = df[cat] + df['Label'].astype(str)\n",
        "  enc = LabelEncoder()\n",
        "  df['uid'] = enc.fit_transform(df['uid'])\n",
        "  # Resample\n",
        "  uid = df['uid'].values\n",
        "  res = imblearn.over_sampling.RandomOverSampler(random_state=6)\n",
        "  df_res,euid = res.fit_resample(df,uid)\n",
        "  df_res = pd.DataFrame(df_res,columns = df.columns)\n",
        "  df_res = df_res.sample(frac=1).reset_index(drop=True)\n",
        "  df_res['Label'] = df_res['Label'].astype(float)\n",
        "  return df_res"
      ],
      "execution_count": null,
      "outputs": []
    },
    {
      "cell_type": "markdown",
      "metadata": {
        "id": "I9aOH89iRI7q"
      },
      "source": [
        "## **1- Train the model & evaluate overall accuracy**"
      ]
    },
    {
      "cell_type": "markdown",
      "metadata": {
        "id": "her5sk9weY3N"
      },
      "source": [
        "In the following code, we split the data into a train and test set, then train the model and evaluate overall accuracy. "
      ]
    },
    {
      "cell_type": "code",
      "metadata": {
        "colab": {
          "base_uri": "https://localhost:8080/"
        },
        "id": "Lng_LHndeW_J",
        "outputId": "dabbf8e9-5e26-4a8f-9524-ee9e9a269d5b"
      },
      "source": [
        "# split into train/test\n",
        "data_train, data_test = train_test_split(data,test_size = 0.3,random_state=4)\n",
        "# get X,y,demographics for each\n",
        "X_train,y_train,dem_train = split_data_from_df(data_train)\n",
        "X_test,y_test,dem_test = split_data_from_df(data_test)\n",
        "# define model and train\n",
        "model = RidgeClassifier(random_state=42)\n",
        "model.fit(X_train,y_train)\n",
        "# evaluate on test\n",
        "y_pred_test = model.predict(X_test)\n",
        "acc = accuracy_score(y_test,y_pred_test)\n",
        "print(\"Accuracy is %.2f\"%acc)\n",
        "# add predictions to data_test for simplicity of analysis\n",
        "data_test = data_test.copy()\n",
        "data_test['Pred'] = y_pred_test"
      ],
      "execution_count": null,
      "outputs": [
        {
          "output_type": "stream",
          "name": "stdout",
          "text": [
            "Accuracy is 0.71\n"
          ]
        }
      ]
    },
    {
      "cell_type": "markdown",
      "metadata": {
        "id": "7DHGwPQCba_0"
      },
      "source": [
        "We have an overall accuracy of 0.71, let's now calculate some of the fairness metrics described in part I. We will use:\n",
        "\n",
        "- Statistical Parity and Disparate Impact\n",
        "- Equal Odds and Equal Opportunity"
      ]
    },
    {
      "cell_type": "markdown",
      "metadata": {
        "id": "WaPD1_dhqLiy"
      },
      "source": [
        "## **2. Calculate Statistical Parity and Disparate Impact on original test set**"
      ]
    },
    {
      "cell_type": "markdown",
      "metadata": {
        "id": "VMuix7ulqe5c"
      },
      "source": [
        "**Questions** : \n",
        "- **Calculate the success rate for Male, Female and White, Black, Asian, Hispanic.** Note that this is the same as the mean y value for these subsets as outcomes are either 0 or 1. \n",
        "\n",
        "- **Calculate the Statistical Parity and Disparate Impact for:** \n",
        "  - **Female vs Male**\n",
        "  - **Black vs White**\n",
        "  - **Asian vs White**\n",
        "  - **Hispanic vs White**\n",
        "\n",
        "As a reminder, here are the definition:\n",
        "  - Statistical Parity. Difference between the success rate of the minority group with the majority group. A value below zero indicates a bias. \n",
        "  - Disparate Impact. Ratio of the success rate of the minority group over the majority group. A value below 1 indicates a bias. Fairness is often considered achieved for values between 0.8 and 1.2.\n",
        "\n"
      ]
    },
    {
      "cell_type": "code",
      "metadata": {
        "id": "5QAEwwiAKO3y"
      },
      "source": [
        ""
      ],
      "execution_count": null,
      "outputs": []
    },
    {
      "cell_type": "code",
      "metadata": {
        "id": "TaMnjWE7KO81"
      },
      "source": [
        ""
      ],
      "execution_count": null,
      "outputs": []
    },
    {
      "cell_type": "markdown",
      "metadata": {
        "id": "oPEv1uWOpiGz"
      },
      "source": [
        "You should get the following results.\n",
        "\n",
        "| Tested | Statistical Parity | Disparate Impact |\n",
        "| --- | --- | ---|\n",
        "| Female vs Male |-0.03 | 0.92 |\n",
        "| Black vs White | -0.09 | 0.75 |\n",
        "| Asian vs White | -0.07 | 0.80 |\n",
        "| Hispanic vs White | -0.03 | 0.90 |\n"
      ]
    },
    {
      "cell_type": "markdown",
      "metadata": {
        "id": "jHelKo5T7ENs"
      },
      "source": [
        "Satistical Parity | Disparate Impact\n",
        ":-: | :-: \n",
        "<center><img src=\"https://drive.google.com/uc?id=1iSWbqkizANcn2CNoP7BjY4GzwNxpZhUn\"></center> | <center><img src=\"https://drive.google.com/uc?id=1mxlkSq13nFRN1hElvrO36x2AA2MTix7f\"></center>"
      ]
    },
    {
      "cell_type": "markdown",
      "metadata": {
        "id": "rzwBa_wfxYVF"
      },
      "source": [
        "**Questions** : \n",
        "- **Who experiences the most bias ? Is this in line with what you predicted in 2.2 ? Why could it be different ?** "
      ]
    },
    {
      "cell_type": "markdown",
      "metadata": {
        "id": "7QvORPdlxluk"
      },
      "source": [
        "## **3. Calculate Statistical Parity and Disparate Impact on a rebalanced test set**\n",
        "\n",
        "We know for the dataset analysis that the actual success rate (calculated from the ground-truth label) is lower for the *Black/Asian/Hispanic* groups compared to White group. As the test set is a random subset of the dataset, it is also likely to be true in the test set. Hence even a perfectly trained model should predict a lower success rate for those groups. To test the bias on a more balanced dataset, we resample the test set so that the success rate is equal across all groups. Note this might take a few seconds to run. \n"
      ]
    },
    {
      "cell_type": "code",
      "metadata": {
        "id": "GJ_AriUppiG0",
        "colab": {
          "base_uri": "https://localhost:8080/"
        },
        "outputId": "b1bcba4d-9404-40e9-ecae-7c8e2198998f"
      },
      "source": [
        "# resample test set so success rate equal across all groups\n",
        "data_test_res = resample_equal(data_test,'Ethnicity')\n",
        "X_test_res,y_test_res,dem_test_res = split_data_from_df(data_test_res)\n",
        "# check success rates\n",
        "print(\"New success rates for rebalanced test set:\")\n",
        "pred_e_mean_res  = data_test_res.groupby('Ethnicity').mean()['Label']\n",
        "for e in pred_e_mean_res.index:\n",
        "  print('   ',e,'-> %.3f'%pred_e_mean_res[e])\n",
        "## evaluate model on rebalanced test set\n",
        "y_pred_test_res = model.predict(X_test_res)\n",
        "acc_res = accuracy_score(y_test_res,y_pred_test_res)\n",
        "print(\"Accuracy is %.2f\"%acc_res)\n",
        "## add predictions to data_test for simplicity of analysis\n",
        "data_test_res = data_test_res.copy()\n",
        "data_test_res['Pred'] = y_pred_test_res"
      ],
      "execution_count": null,
      "outputs": [
        {
          "output_type": "stream",
          "name": "stderr",
          "text": [
            "/usr/local/lib/python3.7/dist-packages/sklearn/utils/deprecation.py:87: FutureWarning: Function safe_indexing is deprecated; safe_indexing is deprecated in version 0.22 and will be removed in version 0.24.\n",
            "  warnings.warn(msg, category=FutureWarning)\n"
          ]
        },
        {
          "output_type": "stream",
          "name": "stdout",
          "text": [
            "New success rates for rebalanced test set:\n",
            "    Asian -> 0.500\n",
            "    Black -> 0.500\n",
            "    Hispanic -> 0.500\n",
            "    White -> 0.500\n",
            "Accuracy is 0.67\n"
          ]
        }
      ]
    },
    {
      "cell_type": "markdown",
      "metadata": {
        "id": "wYRr0mjDpiG0"
      },
      "source": [
        "**Questions** : \n",
        "- **Repeat the steps from above to calculate the Statistical Parity and Disparate Impact on the rebalanced test set for:** \n",
        "  - **Black vs White**\n",
        "  - **Asian vs White**\n",
        "  - **Hispanic vs White**"
      ]
    },
    {
      "cell_type": "code",
      "metadata": {
        "id": "7E8n0QVxKSIC"
      },
      "source": [
        ""
      ],
      "execution_count": null,
      "outputs": []
    },
    {
      "cell_type": "code",
      "metadata": {
        "id": "s-LlLrCBKSKo"
      },
      "source": [
        ""
      ],
      "execution_count": null,
      "outputs": []
    },
    {
      "cell_type": "markdown",
      "metadata": {
        "id": "sBOxW9EnpiG0"
      },
      "source": [
        "You should get the following results.\n",
        "\n",
        "| Tested | Statistical Parity | Disparate Impact |\n",
        "| --- | --- | ---|\n",
        "| Black vs White | -0.08 | 0.78 |\n",
        "| Asian vs White | -0.05 | 0.88 |\n",
        "| Hispanic vs White | -0.01 | 0.96 |"
      ]
    },
    {
      "cell_type": "markdown",
      "metadata": {
        "id": "FaeWTL2P7u4g"
      },
      "source": [
        "Satistical Parity | Disparate Impact\n",
        ":-: | :-: \n",
        "<center><img src=\"https://drive.google.com/uc?id=1vNFduiIL2LwhhYNl4RsDf05muWRSrSq7\"></center> | <center><img src=\"https://drive.google.com/uc?id=1Fqc5tHmqNvMrpkBFGdnPTNg1vO0LM6e8\"></center>"
      ]
    },
    {
      "cell_type": "markdown",
      "metadata": {
        "id": "MBbnU4rS2TF6"
      },
      "source": [
        "Hence even on a balanced test set there is still a bias. The disparate impact value for Black vs White is just under the \"fair\" limit of 0.8."
      ]
    },
    {
      "cell_type": "markdown",
      "metadata": {
        "id": "EAHEDWmBitMm"
      },
      "source": [
        "## **4. Calculate the Equal Opportunity Difference**"
      ]
    },
    {
      "cell_type": "markdown",
      "metadata": {
        "id": "8GFG01c8i1dC"
      },
      "source": [
        "In this section, we focus on the *Equal Opportunity Difference metric*. This metric is part of a wider category of metrics (Equalized Odds and Equality of opportunity) which compare performance/accuracy of predictions for different groups instead of success rates. \n",
        "\n",
        "Equalized Odds state that the classifer should have the same True Positive Rate (TPR) and True Negative Rate (TNR) across all groups. The true positive (negative) rate is the proportion of candidates that should be successful (unsuccessful) according to ground-truth that have been correctly classified as successful (unsuccessful) by the algorithm. Mathematically, this means that the following probabilities should be equal for all groups : \n",
        "\n",
        "$$P_{group1}(pred = \\text{0 or 1} | Y = \\text{0 or 1}) = P_{group2}(pred = \\text{0 or 1} | Y = \\text{0 or 1})$$\n",
        "\n",
        "\n",
        "The figure below illustrates the definition of TPR and TNR using a confusion matrix and their relationship with the above probabilities.\n"
      ]
    },
    {
      "cell_type": "markdown",
      "metadata": {
        "id": "qpg26zgs8MGl"
      },
      "source": [
        "<center><img src=\"https://drive.google.com/uc?id=1bQxfIhcrNym7UC7_yzbdaUq12qCtJ9Dr\"></center>"
      ]
    },
    {
      "cell_type": "markdown",
      "metadata": {
        "id": "2WvYsyq_4vvr"
      },
      "source": [
        "The version of this with equal true positive rates only - i.e only looking at $P(pred = 1|y =1)$ - is called *Equal Opportunity Difference*. This measures the difference in True Positive Rates between the unprivileged and privileged group. The ideal value is 0 and fair values are often considered achieved for values between -0.1 and 0.1. In this part, we calculate the Equal Opportunity Difference for different groups. \n",
        "\n",
        "\n",
        "In the following code, we split the data into a train and test set and train the model using the train set. "
      ]
    },
    {
      "cell_type": "code",
      "metadata": {
        "colab": {
          "base_uri": "https://localhost:8080/"
        },
        "id": "x7N3XUjti8r_",
        "outputId": "45fdf795-a606-49fc-d087-4b5dfa6ed071"
      },
      "source": [
        "# split into train/test\n",
        "data_train, data_test = train_test_split(data,test_size = 0.3,random_state=4)\n",
        "# get X,y,demographics for each\n",
        "X_train,y_train,dem_train = split_data_from_df(data_train)\n",
        "X_test,y_test,dem_test = split_data_from_df(data_test)\n",
        "# define model and train\n",
        "model = RidgeClassifier(random_state=42)\n",
        "model.fit(X_train,y_train)\n",
        "# evaluate on test\n",
        "y_pred_test = model.predict(X_test)\n",
        "acc = accuracy_score(y_test,y_pred_test)\n",
        "print(\"Accuracy is %.2f\"%acc)\n",
        "# add predictions to data_test for simplicity of analysis\n",
        "data_test = data_test.copy()\n",
        "data_test['Pred'] = y_pred_test"
      ],
      "execution_count": null,
      "outputs": [
        {
          "output_type": "stream",
          "name": "stdout",
          "text": [
            "Accuracy is 0.71\n"
          ]
        }
      ]
    },
    {
      "cell_type": "markdown",
      "metadata": {
        "id": "lxH0vOKaxnT5"
      },
      "source": [
        "**Questions:**\n",
        "- **Compute and plot the confusion matrix for Male/Female and White/Black.** Use the pre-defined function *plot_cm(y_true,y_pred)*.\n",
        "- **Compute the true positive rates for Male/Female and White/Black.** \n",
        "- **Compute the Equal Opportunity Difference as the difference of the true positive rate of the unprivileged group with the privileged one:**\n",
        "$EOD = TPR_{unprivileged}-TPR_{privileged}$."
      ]
    },
    {
      "cell_type": "code",
      "metadata": {
        "id": "bxpICMgKKX8g"
      },
      "source": [
        ""
      ],
      "execution_count": null,
      "outputs": []
    },
    {
      "cell_type": "code",
      "metadata": {
        "id": "bh0VCA1zKX-9"
      },
      "source": [
        ""
      ],
      "execution_count": null,
      "outputs": []
    },
    {
      "cell_type": "markdown",
      "metadata": {
        "id": "_BjIkQZbpiG1"
      },
      "source": [
        "You should find the following:\n",
        "\n",
        "| Tested | Equal Opportunity Difference |\n",
        "| --- | ---|\n",
        "| Female vs Male | -0.03 |\n",
        "| Black vs White | -0.11 | \n",
        "| Asian vs White | -0.05 | \n",
        "| Hispanic vs White | -0.02 | "
      ]
    },
    {
      "cell_type": "markdown",
      "metadata": {
        "id": "v-KMnKmF8bcy"
      },
      "source": [
        "<center><img src=\"https://drive.google.com/uc?id=1kaQKOJk55OLZBk52hwAAJt3OPbmQV_18\"></center>"
      ]
    },
    {
      "cell_type": "markdown",
      "metadata": {
        "id": "hCLoZwEn-DyP"
      },
      "source": [
        "**Questions:**\n",
        "- **According to the Equal Opportunity Difference metrics, which group is subject to the most bias ?**\n",
        "- **Are these results the same as for the Disparate Impact metrics ? Is this necessarily always the case ?**"
      ]
    },
    {
      "cell_type": "markdown",
      "metadata": {
        "id": "PEtpST2RpiG1"
      },
      "source": [
        "    Answer:"
      ]
    },
    {
      "cell_type": "markdown",
      "metadata": {
        "id": "YS1BuzEupiG1"
      },
      "source": [
        ""
      ]
    }
  ]
}